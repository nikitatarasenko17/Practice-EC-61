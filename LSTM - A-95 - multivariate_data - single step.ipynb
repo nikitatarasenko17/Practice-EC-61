{
 "cells": [
  {
   "cell_type": "code",
   "execution_count": 191,
   "metadata": {},
   "outputs": [
    {
     "data": {
      "text/plain": [
       "'Точечное прогнозирование. В данном случае модель обучается прогнозированию одного значения в будущем \\nна основе имеющейся истории по набору переменных.'"
      ]
     },
     "execution_count": 191,
     "metadata": {},
     "output_type": "execute_result"
    }
   ],
   "source": [
    "## LSTM - A-95 - single step model\n",
    "'''Точечное прогнозирование. В данном случае модель обучается прогнозированию одного значения в будущем \n",
    "на основе имеющейся истории по набору переменных.'''"
   ]
  },
  {
   "cell_type": "code",
   "execution_count": 192,
   "metadata": {},
   "outputs": [],
   "source": [
    "# Importing the libraries\n",
    "import numpy as np\n",
    "import matplotlib.pyplot as plt\n",
    "import pandas as pd"
   ]
  },
  {
   "cell_type": "code",
   "execution_count": 193,
   "metadata": {},
   "outputs": [],
   "source": [
    "# Importing the dataset\n",
    "df = pd.read_excel('cena1.xlsx', encoding='ISO-8859-1')"
   ]
  },
  {
   "cell_type": "code",
   "execution_count": 194,
   "metadata": {},
   "outputs": [
    {
     "data": {
      "text/html": [
       "<div>\n",
       "<style scoped>\n",
       "    .dataframe tbody tr th:only-of-type {\n",
       "        vertical-align: middle;\n",
       "    }\n",
       "\n",
       "    .dataframe tbody tr th {\n",
       "        vertical-align: top;\n",
       "    }\n",
       "\n",
       "    .dataframe thead th {\n",
       "        text-align: right;\n",
       "    }\n",
       "</style>\n",
       "<table border=\"1\" class=\"dataframe\">\n",
       "  <thead>\n",
       "    <tr style=\"text-align: right;\">\n",
       "      <th></th>\n",
       "      <th>Date</th>\n",
       "      <th>Price</th>\n",
       "      <th>Kurs_dollar</th>\n",
       "      <th>Kurs_euro</th>\n",
       "      <th>Oil_price</th>\n",
       "      <th>Used</th>\n",
       "    </tr>\n",
       "  </thead>\n",
       "  <tbody>\n",
       "    <tr>\n",
       "      <th>0</th>\n",
       "      <td>2017-01-03</td>\n",
       "      <td>23.82</td>\n",
       "      <td>27.190858</td>\n",
       "      <td>28.422604</td>\n",
       "      <td>55.64</td>\n",
       "      <td>57.611681</td>\n",
       "    </tr>\n",
       "    <tr>\n",
       "      <th>1</th>\n",
       "      <td>2017-01-04</td>\n",
       "      <td>23.85</td>\n",
       "      <td>27.190858</td>\n",
       "      <td>28.422604</td>\n",
       "      <td>56.25</td>\n",
       "      <td>57.571419</td>\n",
       "    </tr>\n",
       "    <tr>\n",
       "      <th>2</th>\n",
       "      <td>2017-01-05</td>\n",
       "      <td>23.85</td>\n",
       "      <td>26.692366</td>\n",
       "      <td>27.858822</td>\n",
       "      <td>56.77</td>\n",
       "      <td>57.532696</td>\n",
       "    </tr>\n",
       "    <tr>\n",
       "      <th>3</th>\n",
       "      <td>2017-01-06</td>\n",
       "      <td>23.87</td>\n",
       "      <td>26.286719</td>\n",
       "      <td>27.603684</td>\n",
       "      <td>56.82</td>\n",
       "      <td>57.496014</td>\n",
       "    </tr>\n",
       "    <tr>\n",
       "      <th>4</th>\n",
       "      <td>2017-01-10</td>\n",
       "      <td>23.87</td>\n",
       "      <td>27.020929</td>\n",
       "      <td>28.612462</td>\n",
       "      <td>53.64</td>\n",
       "      <td>57.379405</td>\n",
       "    </tr>\n",
       "    <tr>\n",
       "      <th>...</th>\n",
       "      <td>...</td>\n",
       "      <td>...</td>\n",
       "      <td>...</td>\n",
       "      <td>...</td>\n",
       "      <td>...</td>\n",
       "      <td>...</td>\n",
       "    </tr>\n",
       "    <tr>\n",
       "      <th>877</th>\n",
       "      <td>2020-07-27</td>\n",
       "      <td>22.87</td>\n",
       "      <td>27.755900</td>\n",
       "      <td>32.224600</td>\n",
       "      <td>43.95</td>\n",
       "      <td>77.059356</td>\n",
       "    </tr>\n",
       "    <tr>\n",
       "      <th>878</th>\n",
       "      <td>2020-07-28</td>\n",
       "      <td>22.87</td>\n",
       "      <td>27.757100</td>\n",
       "      <td>32.604900</td>\n",
       "      <td>43.65</td>\n",
       "      <td>76.648569</td>\n",
       "    </tr>\n",
       "    <tr>\n",
       "      <th>879</th>\n",
       "      <td>2020-07-29</td>\n",
       "      <td>22.87</td>\n",
       "      <td>27.685100</td>\n",
       "      <td>32.453900</td>\n",
       "      <td>44.10</td>\n",
       "      <td>76.239853</td>\n",
       "    </tr>\n",
       "    <tr>\n",
       "      <th>880</th>\n",
       "      <td>2020-07-30</td>\n",
       "      <td>22.89</td>\n",
       "      <td>27.686700</td>\n",
       "      <td>32.469600</td>\n",
       "      <td>43.61</td>\n",
       "      <td>75.834026</td>\n",
       "    </tr>\n",
       "    <tr>\n",
       "      <th>881</th>\n",
       "      <td>2020-07-31</td>\n",
       "      <td>22.89</td>\n",
       "      <td>27.691300</td>\n",
       "      <td>32.547000</td>\n",
       "      <td>43.71</td>\n",
       "      <td>75.431867</td>\n",
       "    </tr>\n",
       "  </tbody>\n",
       "</table>\n",
       "<p>882 rows × 6 columns</p>\n",
       "</div>"
      ],
      "text/plain": [
       "          Date  Price  Kurs_dollar  Kurs_euro  Oil_price       Used\n",
       "0   2017-01-03  23.82    27.190858  28.422604      55.64  57.611681\n",
       "1   2017-01-04  23.85    27.190858  28.422604      56.25  57.571419\n",
       "2   2017-01-05  23.85    26.692366  27.858822      56.77  57.532696\n",
       "3   2017-01-06  23.87    26.286719  27.603684      56.82  57.496014\n",
       "4   2017-01-10  23.87    27.020929  28.612462      53.64  57.379405\n",
       "..         ...    ...          ...        ...        ...        ...\n",
       "877 2020-07-27  22.87    27.755900  32.224600      43.95  77.059356\n",
       "878 2020-07-28  22.87    27.757100  32.604900      43.65  76.648569\n",
       "879 2020-07-29  22.87    27.685100  32.453900      44.10  76.239853\n",
       "880 2020-07-30  22.89    27.686700  32.469600      43.61  75.834026\n",
       "881 2020-07-31  22.89    27.691300  32.547000      43.71  75.431867\n",
       "\n",
       "[882 rows x 6 columns]"
      ]
     },
     "execution_count": 194,
     "metadata": {},
     "output_type": "execute_result"
    }
   ],
   "source": [
    "df"
   ]
  },
  {
   "cell_type": "code",
   "execution_count": 195,
   "metadata": {},
   "outputs": [
    {
     "data": {
      "text/html": [
       "<div>\n",
       "<style scoped>\n",
       "    .dataframe tbody tr th:only-of-type {\n",
       "        vertical-align: middle;\n",
       "    }\n",
       "\n",
       "    .dataframe tbody tr th {\n",
       "        vertical-align: top;\n",
       "    }\n",
       "\n",
       "    .dataframe thead th {\n",
       "        text-align: right;\n",
       "    }\n",
       "</style>\n",
       "<table border=\"1\" class=\"dataframe\">\n",
       "  <thead>\n",
       "    <tr style=\"text-align: right;\">\n",
       "      <th></th>\n",
       "      <th>Price</th>\n",
       "      <th>Kurs_dollar</th>\n",
       "      <th>Kurs_euro</th>\n",
       "      <th>Oil_price</th>\n",
       "      <th>Used</th>\n",
       "    </tr>\n",
       "    <tr>\n",
       "      <th>Date</th>\n",
       "      <th></th>\n",
       "      <th></th>\n",
       "      <th></th>\n",
       "      <th></th>\n",
       "      <th></th>\n",
       "    </tr>\n",
       "  </thead>\n",
       "  <tbody>\n",
       "    <tr>\n",
       "      <th>2017-01-03</th>\n",
       "      <td>23.82</td>\n",
       "      <td>27.190858</td>\n",
       "      <td>28.422604</td>\n",
       "      <td>55.64</td>\n",
       "      <td>57.611681</td>\n",
       "    </tr>\n",
       "    <tr>\n",
       "      <th>2017-01-04</th>\n",
       "      <td>23.85</td>\n",
       "      <td>27.190858</td>\n",
       "      <td>28.422604</td>\n",
       "      <td>56.25</td>\n",
       "      <td>57.571419</td>\n",
       "    </tr>\n",
       "    <tr>\n",
       "      <th>2017-01-05</th>\n",
       "      <td>23.85</td>\n",
       "      <td>26.692366</td>\n",
       "      <td>27.858822</td>\n",
       "      <td>56.77</td>\n",
       "      <td>57.532696</td>\n",
       "    </tr>\n",
       "    <tr>\n",
       "      <th>2017-01-06</th>\n",
       "      <td>23.87</td>\n",
       "      <td>26.286719</td>\n",
       "      <td>27.603684</td>\n",
       "      <td>56.82</td>\n",
       "      <td>57.496014</td>\n",
       "    </tr>\n",
       "    <tr>\n",
       "      <th>2017-01-10</th>\n",
       "      <td>23.87</td>\n",
       "      <td>27.020929</td>\n",
       "      <td>28.612462</td>\n",
       "      <td>53.64</td>\n",
       "      <td>57.379405</td>\n",
       "    </tr>\n",
       "  </tbody>\n",
       "</table>\n",
       "</div>"
      ],
      "text/plain": [
       "            Price  Kurs_dollar  Kurs_euro  Oil_price       Used\n",
       "Date                                                           \n",
       "2017-01-03  23.82    27.190858  28.422604      55.64  57.611681\n",
       "2017-01-04  23.85    27.190858  28.422604      56.25  57.571419\n",
       "2017-01-05  23.85    26.692366  27.858822      56.77  57.532696\n",
       "2017-01-06  23.87    26.286719  27.603684      56.82  57.496014\n",
       "2017-01-10  23.87    27.020929  28.612462      53.64  57.379405"
      ]
     },
     "execution_count": 195,
     "metadata": {},
     "output_type": "execute_result"
    }
   ],
   "source": [
    "# Features \n",
    "features_considered = ['Price','Kurs_dollar','Kurs_euro','Oil_price','Used']\n",
    "features = df[features_considered]\n",
    "features.index = df['Date']\n",
    "features.head()"
   ]
  },
  {
   "cell_type": "code",
   "execution_count": 196,
   "metadata": {},
   "outputs": [
    {
     "data": {
      "text/plain": [
       "array([<matplotlib.axes._subplots.AxesSubplot object at 0x000001AABC47A9D0>,\n",
       "       <matplotlib.axes._subplots.AxesSubplot object at 0x000001AABC44AB80>,\n",
       "       <matplotlib.axes._subplots.AxesSubplot object at 0x000001AABC4CE280>,\n",
       "       <matplotlib.axes._subplots.AxesSubplot object at 0x000001AABC4EE7F0>,\n",
       "       <matplotlib.axes._subplots.AxesSubplot object at 0x000001AABEEB6D90>],\n",
       "      dtype=object)"
      ]
     },
     "execution_count": 196,
     "metadata": {},
     "output_type": "execute_result"
    },
    {
     "data": {
      "image/png": "[encoded data removed]",
      "text/plain": [
       "<Figure size 432x288 with 5 Axes>"
      ]
     },
     "metadata": {
      "needs_background": "light"
     },
     "output_type": "display_data"
    }
   ],
   "source": [
    "# Plotting data\n",
    "features.plot(subplots=True)"
   ]
  },
  {
   "cell_type": "code",
   "execution_count": 197,
   "metadata": {},
   "outputs": [],
   "source": [
    "'''Точечное прогнозирование. В данном случае модель обучается прогнозированию одного значения в будущем \n",
    "на основе имеющейся истории.\n",
    "Приведенная функция выполняет задачу организации временных интервалов, отбирая последние наблюдения \n",
    "на основе заданного размера шага.'''\n",
    "def multivariate_data(dataset, target, start_index, end_index, history_size,\n",
    "                      target_size, step, single_step=False):\n",
    "  data = []\n",
    "  labels = []\n",
    "\n",
    "  start_index = start_index + history_size\n",
    "  if end_index is None:\n",
    "    end_index = len(dataset) - target_size\n",
    "\n",
    "  for i in range(start_index, end_index):\n",
    "    indices = range(i-history_size, i, step)\n",
    "    data.append(dataset[indices])\n",
    "\n",
    "    if single_step:\n",
    "      labels.append(target[i+target_size])\n",
    "    else:\n",
    "      labels.append(target[i:i+target_size])\n",
    "\n",
    "  return np.array(data), np.array(labels)"
   ]
  },
  {
   "cell_type": "code",
   "execution_count": 198,
   "metadata": {},
   "outputs": [
    {
     "data": {
      "text/plain": [
       "array([[ 1.25944584e-03,  0.00000000e+00,  0.00000000e+00,\n",
       "         1.09633357e-02, -6.98854722e-04],\n",
       "       [ 0.00000000e+00, -1.83330736e-02, -1.98356913e-02,\n",
       "         9.24444444e-03, -6.72597510e-04],\n",
       "       [ 8.38574423e-04, -1.51971167e-02, -9.15824797e-03,\n",
       "         8.80746873e-04, -6.37596076e-04],\n",
       "       ...,\n",
       "       [ 0.00000000e+00, -2.59393092e-03, -4.63120574e-03,\n",
       "         1.03092784e-02, -5.33233923e-03],\n",
       "       [ 8.74508089e-04,  5.77928200e-05,  4.83763122e-04,\n",
       "        -1.11111111e-02, -5.32302681e-03],\n",
       "       [ 0.00000000e+00,  1.66144755e-04,  2.38376820e-03,\n",
       "         2.29305205e-03, -5.30315756e-03]])"
      ]
     },
     "execution_count": 198,
     "metadata": {},
     "output_type": "execute_result"
    }
   ],
   "source": [
    "'''Первые 700 строк данных будут использоваться для обучения модели, оставшиеся – для её валидации (проверки). \n",
    "В этом случае объём обучающих данных составляет примерно 322 дня.'''\n",
    "# Splitting dataset\n",
    "TRAIN_SPLIT = 700\n",
    "dataset = df.iloc[:, 1:6].pct_change()\n",
    "dataset_array = dataset.values\n",
    "dataset_array[1:]"
   ]
  },
  {
   "cell_type": "code",
   "execution_count": 205,
   "metadata": {},
   "outputs": [],
   "source": [
    "''''''\n",
    "# Creating lagged dataset\n",
    "past_history = 49\n",
    "future_target = 7\n",
    "STEP = 7\n",
    "\n",
    "x_train_single, y_train_single = multivariate_data(dataset_array[1:], dataset_array[1:, 1:2], 0,\n",
    "                                                   TRAIN_SPLIT, past_history,\n",
    "                                                   future_target, STEP,\n",
    "                                                   single_step=True)\n",
    "x_val_single, y_val_single = multivariate_data(dataset_array[1:], dataset_array[1:, 1:2],\n",
    "                                               TRAIN_SPLIT, None, past_history,\n",
    "                                               future_target, STEP,\n",
    "                                               single_step=True)"
   ]
  },
  {
   "cell_type": "code",
   "execution_count": 207,
   "metadata": {},
   "outputs": [
    {
     "name": "stdout",
     "output_type": "stream",
     "text": [
      "Single window of past history : (7, 5)\n"
     ]
    }
   ],
   "source": [
    "'''Проверим временной интервал'''\n",
    "print ('Single window of past history : {}'.format(x_train_single[0].shape))"
   ]
  },
  {
   "cell_type": "code",
   "execution_count": 208,
   "metadata": {},
   "outputs": [],
   "source": [
    "# Importing the Tensorflow libraries and packages\n",
    "import tensorflow as tf\n",
    "#from tf.data import Dataset\n",
    "\n",
    "# Importing the Keras libraries and packages\n",
    "import keras\n",
    "from tensorflow.keras.models import Sequential\n",
    "from tensorflow.keras.layers import LSTM\n",
    "from tensorflow.keras.layers import Dense"
   ]
  },
  {
   "cell_type": "code",
   "execution_count": 209,
   "metadata": {},
   "outputs": [],
   "source": [
    "'''C помощью tf.data выполним перемешивание (shuffle), пакетирование (batch) и кэширование (cache) набора данных.'''\n",
    "# Data preprocessing\n",
    "BATCH_SIZE = 35\n",
    "BUFFER_SIZE = 50\n",
    "\n",
    "train_data_single = tf.data.Dataset.from_tensor_slices((x_train_single, y_train_single))\n",
    "train_data_single = train_data_single.cache().shuffle(BUFFER_SIZE).batch(BATCH_SIZE).repeat()\n",
    "\n",
    "val_data_single = tf.data.Dataset.from_tensor_slices((x_val_single, y_val_single))\n",
    "val_data_single = val_data_single.batch(BATCH_SIZE).repeat() "
   ]
  },
  {
   "cell_type": "code",
   "execution_count": 210,
   "metadata": {},
   "outputs": [],
   "source": [
    "# LSTM creating\n",
    "single_step_model = tf.keras.models.Sequential()\n",
    "single_step_model.add(tf.keras.layers.LSTM(5,\n",
    "                                           input_shape=x_train_single.shape[-2:]))\n",
    "single_step_model.add(tf.keras.layers.Dense(1))\n",
    "\n",
    "single_step_model.compile(optimizer=tf.keras.optimizers.RMSprop(), loss='mae')"
   ]
  },
  {
   "cell_type": "code",
   "execution_count": 211,
   "metadata": {},
   "outputs": [
    {
     "data": {
      "text/plain": [
       "(35, 1)"
      ]
     },
     "execution_count": 211,
     "metadata": {},
     "output_type": "execute_result"
    }
   ],
   "source": [
    "'''Проверим выборку'''\n",
    "single_step_model.predict(val_data_single.take(1)).shape"
   ]
  },
  {
   "cell_type": "code",
   "execution_count": 212,
   "metadata": {},
   "outputs": [
    {
     "name": "stdout",
     "output_type": "stream",
     "text": [
      "Epoch 1/10\n",
      "50/50 [==============================] - 1s 19ms/step - loss: 0.0034 - val_loss: 0.0043\n",
      "Epoch 2/10\n",
      "50/50 [==============================] - 0s 6ms/step - loss: 0.0033 - val_loss: 0.0043\n",
      "Epoch 3/10\n",
      "50/50 [==============================] - 0s 6ms/step - loss: 0.0033 - val_loss: 0.0044\n",
      "Epoch 4/10\n",
      "50/50 [==============================] - 0s 6ms/step - loss: 0.0031 - val_loss: 0.0041\n",
      "Epoch 5/10\n",
      "50/50 [==============================] - 0s 6ms/step - loss: 0.0032 - val_loss: 0.0042\n",
      "Epoch 6/10\n",
      "50/50 [==============================] - 0s 6ms/step - loss: 0.0031 - val_loss: 0.0042\n",
      "Epoch 7/10\n",
      "50/50 [==============================] - 0s 6ms/step - loss: 0.0031 - val_loss: 0.0045\n",
      "Epoch 8/10\n",
      "50/50 [==============================] - 0s 6ms/step - loss: 0.0031 - val_loss: 0.0048\n",
      "Epoch 9/10\n",
      "50/50 [==============================] - 0s 6ms/step - loss: 0.0031 - val_loss: 0.0041\n",
      "Epoch 10/10\n",
      "50/50 [==============================] - 0s 6ms/step - loss: 0.0031 - val_loss: 0.0042\n"
     ]
    }
   ],
   "source": [
    "'''Обучим модель и  выведем кривые потерь на этапах обучения и проверки'''\n",
    "# Fitting\n",
    "EVALUATION_INTERVAL = 50\n",
    "EPOCHS = 10\n",
    "single_step_history = single_step_model.fit(train_data_single, epochs=EPOCHS,\n",
    "                                            steps_per_epoch=EVALUATION_INTERVAL,\n",
    "                                            validation_data=val_data_single,\n",
    "                                            validation_steps=50)"
   ]
  },
  {
   "cell_type": "code",
   "execution_count": 213,
   "metadata": {},
   "outputs": [],
   "source": [
    "# Plotting history function\n",
    "def plot_train_history(history, title):\n",
    "  loss = history.history['loss']\n",
    "  val_loss = history.history['val_loss']\n",
    "\n",
    "  epochs = range(len(loss))\n",
    "\n",
    "  plt.figure()\n",
    "\n",
    "  plt.plot(epochs, loss, 'b', label='Training loss')\n",
    "  plt.plot(epochs, val_loss, 'r', label='Validation loss')\n",
    "  plt.title(title)\n",
    "  plt.legend()\n",
    "\n",
    "  plt.show()"
   ]
  },
  {
   "cell_type": "code",
   "execution_count": 214,
   "metadata": {},
   "outputs": [
    {
     "data": {
      "image/png": "[encoded data removed]",
      "text/plain": [
       "<Figure size 432x288 with 1 Axes>"
      ]
     },
     "metadata": {
      "needs_background": "light"
     },
     "output_type": "display_data"
    }
   ],
   "source": [
    "# Plotting history\n",
    "plot_train_history(single_step_history,\n",
    "                   'Single Step Training and validation loss')"
   ]
  },
  {
   "cell_type": "code",
   "execution_count": 215,
   "metadata": {},
   "outputs": [],
   "source": [
    "def create_time_steps(length):\n",
    "  return list(range(-length, 0))"
   ]
  },
  {
   "cell_type": "code",
   "execution_count": 216,
   "metadata": {},
   "outputs": [],
   "source": [
    "def show_plot(plot_data, delta, title):\n",
    "  labels = ['History', 'True Future', 'Model Prediction']\n",
    "  marker = ['.-', 'rx', 'go']\n",
    "  time_steps = create_time_steps(plot_data[0].shape[0])\n",
    "  if delta:\n",
    "    future = delta\n",
    "  else:\n",
    "    future = 0\n",
    "\n",
    "  plt.title(title)\n",
    "  for i, x in enumerate(plot_data):\n",
    "    if i:\n",
    "      plt.plot(future, plot_data[i], marker[i], markersize=10,\n",
    "               label=labels[i])\n",
    "    else:\n",
    "      plt.plot(time_steps, plot_data[i].flatten(), marker[i], label=labels[i])\n",
    "  plt.legend()\n",
    "  plt.xlim([time_steps[0], (future+5)*2])\n",
    "  plt.xlabel('Time-Step')\n",
    "  return plt"
   ]
  },
  {
   "cell_type": "code",
   "execution_count": 218,
   "metadata": {},
   "outputs": [
    {
     "data": {
      "image/png": "[encoded data removed]",
      "text/plain": [
       "<Figure size 432x288 with 1 Axes>"
      ]
     },
     "metadata": {
      "needs_background": "light"
     },
     "output_type": "display_data"
    },
    {
     "data": {
      "image/png": "[encoded data removed]",
      "text/plain": [
       "<Figure size 432x288 with 1 Axes>"
      ]
     },
     "metadata": {
      "needs_background": "light"
     },
     "output_type": "display_data"
    }
   ],
   "source": [
    "'''Выполнение точечного прогноза.\n",
    "Когда модель обучена, выполним несколько пробных прогнозов. \n",
    "На вход модели подаётся история наблюдений 2-х признаков за последние пять дней, \n",
    "отобранных каждый час (временной интервал = 120). \n",
    "Так как цель заключается в прогнозе только температуры, синим цветом на графике отображены прошлые значения температуры \n",
    "(история). Прогноз выполнен на полдня в будущее (отсюда разрыв между историей и спрогнозированным значением).'''\n",
    "# LSTM Prediction plotting\n",
    "for i in range(0,47,24):\n",
    "    plot = show_plot([x_val_single[i][:, 1], y_val_single[i], single_step_model.predict(val_data_single.take(3))[i]], 12,\n",
    "           'Single Step Prediction')\n",
    "    plot.show()"
   ]
  }
 ],
 "metadata": {
  "kernelspec": {
   "display_name": "Python 3",
   "language": "python",
   "name": "python3"
  },
  "language_info": {
   "codemirror_mode": {
    "name": "ipython",
    "version": 3
   },
   "file_extension": ".py",
   "mimetype": "text/x-python",
   "name": "python",
   "nbconvert_exporter": "python",
   "pygments_lexer": "ipython3",
   "version": "3.8.3"
  }
 },
 "nbformat": 4,
 "nbformat_minor": 4
}
